{
  "nbformat": 4,
  "nbformat_minor": 0,
  "metadata": {
    "colab": {
      "provenance": [],
      "toc_visible": true,
      "authorship_tag": "ABX9TyMq+1xnc7VWi3MUiMjiQJkz",
      "include_colab_link": true
    },
    "kernelspec": {
      "name": "python3",
      "display_name": "Python 3"
    },
    "language_info": {
      "name": "python"
    }
  },
  "cells": [
    {
      "cell_type": "markdown",
      "metadata": {
        "id": "view-in-github",
        "colab_type": "text"
      },
      "source": [
        "<a href=\"https://colab.research.google.com/github/mohammedhrima/google_colab/blob/main/Linear_regression.ipynb\" target=\"_parent\"><img src=\"https://colab.research.google.com/assets/colab-badge.svg\" alt=\"Open In Colab\"/></a>"
      ]
    },
    {
      "cell_type": "code",
      "execution_count": null,
      "metadata": {
        "colab": {
          "base_uri": "https://localhost:8080/"
        },
        "id": "0x4FrKmTJHsp",
        "outputId": "26e3fdad-b1c1-4a06-c756-5f3f4800226e"
      },
      "outputs": [
        {
          "output_type": "stream",
          "name": "stdout",
          "text": [
            "['.config', 'housing.csv', 'sample_data']\n",
            "      crim    zn  indus  chas    nox     rm    age     dis  rad  tax  ptratio  \\\n",
            "0  0.00632  18.0   2.31     0  0.538  6.575   65.2  4.0900    1  296     15.3   \n",
            "1  0.02731   0.0   7.07     0  0.469  6.421   78.9  4.9671    2  242     17.8   \n",
            "2  0.02729   0.0   7.07     0  0.469  7.185   61.1  4.9671    2  242     17.8   \n",
            "3  0.03237   0.0   2.18     0  0.458  6.998   45.8  6.0622    3  222     18.7   \n",
            "4  0.06905   0.0   2.18     0  0.458  7.147   54.2  6.0622    3  222     18.7   \n",
            "5  0.02985   0.0   2.18     0  0.458  6.430   58.7  6.0622    3  222     18.7   \n",
            "6  0.08829  12.5   7.87     0  0.524  6.012   66.6  5.5605    5  311     15.2   \n",
            "7  0.14455  12.5   7.87     0  0.524  6.172   96.1  5.9505    5  311     15.2   \n",
            "8  0.21124  12.5   7.87     0  0.524  5.631  100.0  6.0821    5  311     15.2   \n",
            "9  0.17004  12.5   7.87     0  0.524  6.004   85.9  6.5921    5  311     15.2   \n",
            "\n",
            "        b  lstat  medv  \n",
            "0  396.90   4.98  24.0  \n",
            "1  396.90   9.14  21.6  \n",
            "2  392.83   4.03  34.7  \n",
            "3  394.63   2.94  33.4  \n",
            "4  396.90   5.33  36.2  \n",
            "5  394.12   5.21  28.7  \n",
            "6  395.60  12.43  22.9  \n",
            "7  396.90  19.15  27.1  \n",
            "8  386.63  29.93  16.5  \n",
            "9  386.71  17.10  18.9  \n"
          ]
        }
      ],
      "source": [
        "import numpy as np # linear algebra\n",
        "import pandas as pd # data processing, CSV file I/O (e.g. pd.read_csv)\n",
        "# Input data files are available in the \"../input/\" directory.\n",
        "# For example, running this (by clicking run or pressing Shift+Enter) will list the files in the input directory\n",
        "import os\n",
        "print(os.listdir(\".\"))\n",
        "# Any results you write to the current directory are saved as output.\n",
        "from pandas import read_csv\n",
        "#Lets load the dataset and sample some\n",
        "data = read_csv('housing.csv')\n",
        "print(data.head(10)) # get first 10 rows"
      ]
    },
    {
      "cell_type": "code",
      "source": [
        "data.isna().sum() # check if data contains only numbers"
      ],
      "metadata": {
        "colab": {
          "base_uri": "https://localhost:8080/"
        },
        "id": "wUuyC9I5Q-fa",
        "outputId": "6714a5b5-37d1-4e93-fed0-14921a113a50"
      },
      "execution_count": 11,
      "outputs": [
        {
          "output_type": "execute_result",
          "data": {
            "text/plain": [
              "crim       0\n",
              "zn         0\n",
              "indus      0\n",
              "chas       0\n",
              "nox        0\n",
              "rm         0\n",
              "age        0\n",
              "dis        0\n",
              "rad        0\n",
              "tax        0\n",
              "ptratio    0\n",
              "b          0\n",
              "lstat      0\n",
              "medv       0\n",
              "dtype: int64"
            ]
          },
          "metadata": {},
          "execution_count": 11
        }
      ]
    },
    {
      "cell_type": "code",
      "source": [
        "from sklearn.model_selection import train_test_split\n",
        "X = np.array(data.iloc[:, 0:13])\n",
        "Y = np.array(data['medv'])\n",
        "# testing 30% of data\n",
        "x_train, x_test, y_train, y_test = train_test_split(X,Y, test_size= 0.30, random_state= 5)"
      ],
      "metadata": {
        "id": "UbuVUd_fRJlg"
      },
      "execution_count": 14,
      "outputs": []
    },
    {
      "cell_type": "code",
      "source": [
        "from sklearn.linear_model import LinearRegression\n",
        "from sklearn.neighbors import KNeighborsRegressor\n",
        "# load model\n",
        "lr = LinearRegression()\n",
        "# train model\n",
        "lr.fit(x_train, y_train)\n",
        "# predict the testing data so that we can later evaluate the model\n",
        "pred_lr = lr.predict(x_test)"
      ],
      "metadata": {
        "id": "DPQEF8uxSdH0"
      },
      "execution_count": 15,
      "outputs": []
    },
    {
      "cell_type": "code",
      "source": [
        "# erro fro linear regression\n",
        "import sklearn\n",
        "mse_lr = sklearn.metrics.mean_squared_error(y_test, pred_lr, squared = False)\n",
        "print(\"Error for linear regression = {}\".format(mse_lr))"
      ],
      "metadata": {
        "colab": {
          "base_uri": "https://localhost:8080/"
        },
        "id": "RaMtlvNgTXJG",
        "outputId": "d7daa72e-1d34-4a23-e42e-2275c4091b08"
      },
      "execution_count": 17,
      "outputs": [
        {
          "output_type": "stream",
          "name": "stdout",
          "text": [
            "Error for linear regression = 5.540490745781336\n"
          ]
        }
      ]
    },
    {
      "cell_type": "code",
      "source": [],
      "metadata": {
        "id": "WP7ycg54UOPH"
      },
      "execution_count": null,
      "outputs": []
    }
  ]
}